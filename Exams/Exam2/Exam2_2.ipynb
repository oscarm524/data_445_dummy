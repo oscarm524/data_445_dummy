{
 "cells": [
  {
   "cell_type": "code",
   "execution_count": null,
   "id": "fb53bea2",
   "metadata": {},
   "outputs": [],
   "source": [
    "import boto3\n",
    "import pandas as pd\n",
    "import numpy as np\n",
    "import matplotlib.pyplot as plt\n",
    "from sklearn.model_selection import train_test_split\n",
    "from sklearn.ensemble import RandomForestClassifier, AdaBoostClassifier, GradientBoostingClassifier\n",
    "from sklearn.tree import DecisionTreeClassifier\n",
    "\n",
    "## Defining the bucket \n",
    "s3 = boto3.resource('s3')\n",
    "bucket_name = 'data-445'\n",
    "bucket = s3.Bucket(bucket_name)\n",
    "\n",
    "## Defining the csv file \n",
    "file_key_1 = 'Demos/churn-bigml-80.csv'\n",
    "file_key_2 = 'Demos/churn-bigml-20.csv'\n",
    "\n",
    "bucket_object_1 = bucket.Object(file_key_1)\n",
    "file_object_1 = bucket_object_1.get()\n",
    "file_content_stream_1 = file_object_1.get('Body')\n",
    "\n",
    "bucket_object_2 = bucket.Object(file_key_2)\n",
    "file_object_2 = bucket_object_2.get()\n",
    "file_content_stream_2 = file_object_2.get('Body')\n",
    "\n",
    "## Reading the csv files\n",
    "telecom_train = pd.read_csv(file_content_stream_1)\n",
    "telecom_test = pd.read_csv(file_content_stream_2)"
   ]
  },
  {
   "cell_type": "code",
   "execution_count": null,
   "id": "d07c06b1",
   "metadata": {},
   "outputs": [],
   "source": [
    "## Changing logical value to numbers\n",
    "telecom_train['Churn_numb'] = np.where(telecom_train['Churn'] == False, 0, 1)\n",
    "telecom_test['Churn_numb'] = np.where(telecom_test['Churn'] == False, 0, 1)\n",
    "\n",
    "telecom_train['International_plan'] = np.where(telecom_train['International_plan'] == 'No', 0, 1)\n",
    "telecom_test['International_plan'] = np.where(telecom_test['International_plan'] == 'No', 0, 1)\n",
    "\n",
    "telecom_train['Voice_mail_plan'] = np.where(telecom_train['Voice_mail_plan'] == 'No', 0, 1)\n",
    "telecom_test['Voice_mail_plan'] = np.where(telecom_test['Voice_mail_plan'] == 'No', 0, 1)\n",
    "\n",
    "telecom_train['total_charge'] = telecom_train['Total_day_charge'] + telecom_train['Total_eve_charge'] + telecom_train['Total_night_charge'] + telecom_train['Total_intl_charge']\n",
    "telecom_test['total_charge'] = telecom_test['Total_day_charge'] + telecom_test['Total_eve_charge'] + telecom_test['Total_night_charge'] + telecom_test['Total_intl_charge']\n",
    "\n",
    "telecom_train.head()"
   ]
  },
  {
   "cell_type": "code",
   "execution_count": null,
   "id": "13973705",
   "metadata": {},
   "outputs": [],
   "source": [
    "## Selecting variables of interest\n",
    "telecom_train = telecom_train[['Account_length', 'International_plan', 'Voice_mail_plan', 'total_charge', 'Customer_service_calls', 'Churn_numb']]\n",
    "telecom_test = telecom_test[['Account_length', 'International_plan', 'Voice_mail_plan', 'total_charge', 'Customer_service_calls', 'Churn_numb']]\n",
    "\n",
    "telecom_train.head()"
   ]
  },
  {
   "cell_type": "code",
   "execution_count": null,
   "id": "7d4df49b",
   "metadata": {},
   "outputs": [],
   "source": [
    "## Defining the input and target variables\n",
    "X = telecom_train[['Account_length', 'International_plan', 'Voice_mail_plan', 'total_charge', 'Customer_service_calls']]\n",
    "Y = telecom_train['Churn_numb']\n",
    "\n",
    "## Defining data-frame to store results \n",
    "RF_importances = pd.DataFrame({'Account_length': np.repeat(np.nan, 100), 'International_plan': np.repeat(np.nan, 100), 'Voice_mail_plan': np.repeat(np.nan, 100), 'total_charge': np.repeat(np.nan, 100), 'Customer_service_calls': np.repeat(np.nan, 100)})\n",
    "Ada_importances = pd.DataFrame({'Account_length': np.repeat(np.nan, 100), 'International_plan': np.repeat(np.nan, 100), 'Voice_mail_plan': np.repeat(np.nan, 100), 'total_charge': np.repeat(np.nan, 100), 'Customer_service_calls': np.repeat(np.nan, 100)})\n",
    "GB_importances = pd.DataFrame({'Account_length': np.repeat(np.nan, 100), 'International_plan': np.repeat(np.nan, 100), 'Voice_mail_plan': np.repeat(np.nan, 100), 'total_charge': np.repeat(np.nan, 100), 'Customer_service_calls': np.repeat(np.nan, 100)})\n",
    "\n",
    "for i in range(0, 100):\n",
    "\n",
    "    ## Splitting the data \n",
    "    X_train, X_test, Y_train, Y_test = train_test_split(X, Y, test_size = 0.2, stratify = Y)\n",
    "    \n",
    "    ###################\n",
    "    ## Random Forest ##\n",
    "    ###################\n",
    "    \n",
    "    RF = RandomForestClassifier(n_estimators = 500, max_depth = 3).fit(X_train, Y_train)\n",
    "    RF_importances.loc[i] = RF.feature_importances_\n",
    "    \n",
    "    ##############\n",
    "    ## AdaBoost ##\n",
    "    ##############\n",
    "    \n",
    "    Ada = AdaBoostClassifier(n_estimators = 500, base_estimator = DecisionTreeClassifier(max_depth = 3), learning_rate = 0.01).fit(X_train, Y_train)\n",
    "    Ada_importances.loc[i] = Ada.feature_importances_\n",
    "    \n",
    "    #######################\n",
    "    ## Gradient Boosting ##\n",
    "    #######################\n",
    "    \n",
    "    GB = GradientBoostingClassifier(n_estimators = 500, max_depth = 3, learning_rate = 0.01).fit(X_train, Y_train)\n",
    "    GB_importances.loc[i] = GB.feature_importances_\n",
    "    \n",
    "## Combining the importances of the three models \n",
    "Feature_Importances = pd.concat([RF_importances, Ada_importances, GB_importances], axis = 0)\n",
    "Feature_Importances.mean()"
   ]
  },
  {
   "cell_type": "code",
   "execution_count": null,
   "id": "50b8d9b5",
   "metadata": {},
   "outputs": [],
   "source": [
    "Feature_Importances = pd.concat([RF_importances, Ada_importances, GB_importances], axis = 0)\n",
    "Feature_Importances.mean()"
   ]
  },
  {
   "cell_type": "code",
   "execution_count": null,
   "id": "c6fa8e81",
   "metadata": {},
   "outputs": [],
   "source": [
    "## Re-defining the input and target variables\n",
    "X = telecom_train[['Account_length', 'International_plan', 'total_charge', 'Customer_service_calls']]\n",
    "Y = telecom_train['Churn_numb']\n"
   ]
  }
 ],
 "metadata": {
  "kernelspec": {
   "display_name": "conda_python3",
   "language": "python",
   "name": "conda_python3"
  },
  "language_info": {
   "codemirror_mode": {
    "name": "ipython",
    "version": 3
   },
   "file_extension": ".py",
   "mimetype": "text/x-python",
   "name": "python",
   "nbconvert_exporter": "python",
   "pygments_lexer": "ipython3",
   "version": "3.6.13"
  }
 },
 "nbformat": 4,
 "nbformat_minor": 5
}
