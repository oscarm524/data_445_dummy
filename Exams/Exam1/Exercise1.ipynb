{
 "cells": [
  {
   "cell_type": "code",
   "execution_count": 9,
   "id": "09292403",
   "metadata": {},
   "outputs": [
    {
     "data": {
      "text/html": [
       "<div>\n",
       "<style scoped>\n",
       "    .dataframe tbody tr th:only-of-type {\n",
       "        vertical-align: middle;\n",
       "    }\n",
       "\n",
       "    .dataframe tbody tr th {\n",
       "        vertical-align: top;\n",
       "    }\n",
       "\n",
       "    .dataframe thead th {\n",
       "        text-align: right;\n",
       "    }\n",
       "</style>\n",
       "<table border=\"1\" class=\"dataframe\">\n",
       "  <thead>\n",
       "    <tr style=\"text-align: right;\">\n",
       "      <th></th>\n",
       "      <th>Private</th>\n",
       "      <th>Apps</th>\n",
       "      <th>Accept</th>\n",
       "      <th>Enroll</th>\n",
       "      <th>Top10perc</th>\n",
       "      <th>Top25perc</th>\n",
       "      <th>F.Undergrad</th>\n",
       "      <th>P.Undergrad</th>\n",
       "      <th>Outstate</th>\n",
       "      <th>Room.Board</th>\n",
       "      <th>Books</th>\n",
       "      <th>Personal</th>\n",
       "      <th>PhD</th>\n",
       "      <th>Terminal</th>\n",
       "      <th>S.F.Ratio</th>\n",
       "      <th>perc.alumni</th>\n",
       "      <th>Expend</th>\n",
       "      <th>Grad.Rate</th>\n",
       "    </tr>\n",
       "  </thead>\n",
       "  <tbody>\n",
       "    <tr>\n",
       "      <th>0</th>\n",
       "      <td>Yes</td>\n",
       "      <td>1660</td>\n",
       "      <td>1232</td>\n",
       "      <td>721</td>\n",
       "      <td>23</td>\n",
       "      <td>52</td>\n",
       "      <td>2885</td>\n",
       "      <td>537</td>\n",
       "      <td>7440</td>\n",
       "      <td>3300</td>\n",
       "      <td>450</td>\n",
       "      <td>2200</td>\n",
       "      <td>70</td>\n",
       "      <td>78</td>\n",
       "      <td>18.1</td>\n",
       "      <td>12</td>\n",
       "      <td>7041</td>\n",
       "      <td>60</td>\n",
       "    </tr>\n",
       "    <tr>\n",
       "      <th>1</th>\n",
       "      <td>Yes</td>\n",
       "      <td>2186</td>\n",
       "      <td>1924</td>\n",
       "      <td>512</td>\n",
       "      <td>16</td>\n",
       "      <td>29</td>\n",
       "      <td>2683</td>\n",
       "      <td>1227</td>\n",
       "      <td>12280</td>\n",
       "      <td>6450</td>\n",
       "      <td>750</td>\n",
       "      <td>1500</td>\n",
       "      <td>29</td>\n",
       "      <td>30</td>\n",
       "      <td>12.2</td>\n",
       "      <td>16</td>\n",
       "      <td>10527</td>\n",
       "      <td>56</td>\n",
       "    </tr>\n",
       "    <tr>\n",
       "      <th>2</th>\n",
       "      <td>Yes</td>\n",
       "      <td>1428</td>\n",
       "      <td>1097</td>\n",
       "      <td>336</td>\n",
       "      <td>22</td>\n",
       "      <td>50</td>\n",
       "      <td>1036</td>\n",
       "      <td>99</td>\n",
       "      <td>11250</td>\n",
       "      <td>3750</td>\n",
       "      <td>400</td>\n",
       "      <td>1165</td>\n",
       "      <td>53</td>\n",
       "      <td>66</td>\n",
       "      <td>12.9</td>\n",
       "      <td>30</td>\n",
       "      <td>8735</td>\n",
       "      <td>54</td>\n",
       "    </tr>\n",
       "    <tr>\n",
       "      <th>3</th>\n",
       "      <td>Yes</td>\n",
       "      <td>417</td>\n",
       "      <td>349</td>\n",
       "      <td>137</td>\n",
       "      <td>60</td>\n",
       "      <td>89</td>\n",
       "      <td>510</td>\n",
       "      <td>63</td>\n",
       "      <td>12960</td>\n",
       "      <td>5450</td>\n",
       "      <td>450</td>\n",
       "      <td>875</td>\n",
       "      <td>92</td>\n",
       "      <td>97</td>\n",
       "      <td>7.7</td>\n",
       "      <td>37</td>\n",
       "      <td>19016</td>\n",
       "      <td>59</td>\n",
       "    </tr>\n",
       "    <tr>\n",
       "      <th>4</th>\n",
       "      <td>Yes</td>\n",
       "      <td>193</td>\n",
       "      <td>146</td>\n",
       "      <td>55</td>\n",
       "      <td>16</td>\n",
       "      <td>44</td>\n",
       "      <td>249</td>\n",
       "      <td>869</td>\n",
       "      <td>7560</td>\n",
       "      <td>4120</td>\n",
       "      <td>800</td>\n",
       "      <td>1500</td>\n",
       "      <td>76</td>\n",
       "      <td>72</td>\n",
       "      <td>11.9</td>\n",
       "      <td>2</td>\n",
       "      <td>10922</td>\n",
       "      <td>15</td>\n",
       "    </tr>\n",
       "  </tbody>\n",
       "</table>\n",
       "</div>"
      ],
      "text/plain": [
       "  Private  Apps  Accept  Enroll  Top10perc  Top25perc  F.Undergrad  \\\n",
       "0     Yes  1660    1232     721         23         52         2885   \n",
       "1     Yes  2186    1924     512         16         29         2683   \n",
       "2     Yes  1428    1097     336         22         50         1036   \n",
       "3     Yes   417     349     137         60         89          510   \n",
       "4     Yes   193     146      55         16         44          249   \n",
       "\n",
       "   P.Undergrad  Outstate  Room.Board  Books  Personal  PhD  Terminal  \\\n",
       "0          537      7440        3300    450      2200   70        78   \n",
       "1         1227     12280        6450    750      1500   29        30   \n",
       "2           99     11250        3750    400      1165   53        66   \n",
       "3           63     12960        5450    450       875   92        97   \n",
       "4          869      7560        4120    800      1500   76        72   \n",
       "\n",
       "   S.F.Ratio  perc.alumni  Expend  Grad.Rate  \n",
       "0       18.1           12    7041         60  \n",
       "1       12.2           16   10527         56  \n",
       "2       12.9           30    8735         54  \n",
       "3        7.7           37   19016         59  \n",
       "4       11.9            2   10922         15  "
      ]
     },
     "execution_count": 9,
     "metadata": {},
     "output_type": "execute_result"
    }
   ],
   "source": [
    "import boto3\n",
    "import pandas as pd\n",
    "import numpy as np\n",
    "import matplotlib.pyplot as plt\n",
    "from sklearn.preprocessing import MinMaxScaler\n",
    "from sklearn.model_selection import train_test_split\n",
    "from sklearn.linear_model import LinearRegression, Ridge, RidgeCV, Lasso, LassoCV\n",
    "\n",
    "## Defining the bucket \n",
    "s3 = boto3.resource('s3')\n",
    "bucket_name = 'data-445'\n",
    "bucket = s3.Bucket(bucket_name)\n",
    "\n",
    "## Defining the csv file \n",
    "file_key = 'Demos/College.csv'\n",
    "\n",
    "bucket_object = bucket.Object(file_key)\n",
    "file_object = bucket_object.get()\n",
    "file_content_stream = file_object.get('Body')\n",
    "\n",
    "## Reading the csv file\n",
    "college = pd.read_csv(file_content_stream).reset_index(drop = True)\n",
    "college.head()"
   ]
  },
  {
   "cell_type": "code",
   "execution_count": 6,
   "id": "ada9fc4f",
   "metadata": {},
   "outputs": [
    {
     "data": {
      "text/plain": [
       "0      1\n",
       "1      1\n",
       "2      1\n",
       "3      1\n",
       "4      1\n",
       "      ..\n",
       "772    0\n",
       "773    1\n",
       "774    1\n",
       "775    1\n",
       "776    1\n",
       "Name: Private, Length: 777, dtype: int64"
      ]
     },
     "execution_count": 6,
     "metadata": {},
     "output_type": "execute_result"
    }
   ],
   "source": [
    "## Changing Private to 0-1\n",
    "college['Private'] = np.where(college['Private'] == 'Yes', 1, 0)\n",
    "college['Private']"
   ]
  },
  {
   "cell_type": "code",
   "execution_count": 7,
   "id": "a8ca45fe",
   "metadata": {},
   "outputs": [],
   "source": [
    "## Defining the input and target variables\n",
    "X = college[['Private', 'F.Undergrad', 'P.Undergrad', 'Outstate', 'Room.Board', 'Books', 'Personal', 'S.F.Ratio', 'Grad.Rate']]\n",
    "Y = college['Apps']\n",
    "\n",
    "## Splitting the data into training and testing\n",
    "X_train, X_test, Y_train, Y_test = train_test_split(X, Y, test_size = 0.2)"
   ]
  },
  {
   "cell_type": "code",
   "execution_count": 8,
   "id": "33f23f7b",
   "metadata": {},
   "outputs": [],
   "source": [
    "## Transforming inputs to 0-1 scale\n",
    "scaler = MinMaxScaler()\n",
    "\n",
    "X_train = scaler.fit_transform(X_train)\n",
    "X_test = scaler.fit_transform(X_test)"
   ]
  },
  {
   "cell_type": "code",
   "execution_count": 11,
   "id": "df210880",
   "metadata": {},
   "outputs": [
    {
     "data": {
      "text/plain": [
       "9331485.068039903"
      ]
     },
     "execution_count": 11,
     "metadata": {},
     "output_type": "execute_result"
    }
   ],
   "source": [
    "## Linear regression\n",
    "md1 = LinearRegression().fit(X_train, Y_train)\n",
    "\n",
    "## Predicting on the test dataset\n",
    "pred1 = md1.predict(X_test)\n",
    "\n",
    "## Computing the mse\n",
    "mse1 = np.mean(np.power(pred1 - Y_test, 2))\n",
    "mse1"
   ]
  },
  {
   "cell_type": "code",
   "execution_count": 17,
   "id": "5f7ccfe4",
   "metadata": {},
   "outputs": [
    {
     "data": {
      "text/plain": [
       "9331684.694795828"
      ]
     },
     "execution_count": 17,
     "metadata": {},
     "output_type": "execute_result"
    }
   ],
   "source": [
    "## Estimating lambda\n",
    "alphas = np.linspace(0.001, 100, num = 100)\n",
    "ridge_cv = RidgeCV(alphas = alphas, cv = 5).fit(X_train, Y_train)\n",
    "ridge_cv.alpha_\n",
    "\n",
    "## Building ridge regression model with optimal lambda\n",
    "md2 = Ridge(alpha = ridge_cv.alpha_).fit(X_train, Y_train)\n",
    "\n",
    "## Predicting on the test dataset\n",
    "pred2 = md2.predict(X_test)\n",
    "\n",
    "## Computing the mse\n",
    "mse2 = np.mean(np.power(pred2 - Y_test, 2))\n",
    "mse2"
   ]
  },
  {
   "cell_type": "code",
   "execution_count": 15,
   "id": "17417578",
   "metadata": {},
   "outputs": [
    {
     "data": {
      "text/plain": [
       "array([1.00000000e-03, 1.01109091e+00, 2.02118182e+00, 3.03127273e+00,\n",
       "       4.04136364e+00, 5.05145455e+00, 6.06154545e+00, 7.07163636e+00,\n",
       "       8.08172727e+00, 9.09181818e+00, 1.01019091e+01, 1.11120000e+01,\n",
       "       1.21220909e+01, 1.31321818e+01, 1.41422727e+01, 1.51523636e+01,\n",
       "       1.61624545e+01, 1.71725455e+01, 1.81826364e+01, 1.91927273e+01,\n",
       "       2.02028182e+01, 2.12129091e+01, 2.22230000e+01, 2.32330909e+01,\n",
       "       2.42431818e+01, 2.52532727e+01, 2.62633636e+01, 2.72734545e+01,\n",
       "       2.82835455e+01, 2.92936364e+01, 3.03037273e+01, 3.13138182e+01,\n",
       "       3.23239091e+01, 3.33340000e+01, 3.43440909e+01, 3.53541818e+01,\n",
       "       3.63642727e+01, 3.73743636e+01, 3.83844545e+01, 3.93945455e+01,\n",
       "       4.04046364e+01, 4.14147273e+01, 4.24248182e+01, 4.34349091e+01,\n",
       "       4.44450000e+01, 4.54550909e+01, 4.64651818e+01, 4.74752727e+01,\n",
       "       4.84853636e+01, 4.94954545e+01, 5.05055455e+01, 5.15156364e+01,\n",
       "       5.25257273e+01, 5.35358182e+01, 5.45459091e+01, 5.55560000e+01,\n",
       "       5.65660909e+01, 5.75761818e+01, 5.85862727e+01, 5.95963636e+01,\n",
       "       6.06064545e+01, 6.16165455e+01, 6.26266364e+01, 6.36367273e+01,\n",
       "       6.46468182e+01, 6.56569091e+01, 6.66670000e+01, 6.76770909e+01,\n",
       "       6.86871818e+01, 6.96972727e+01, 7.07073636e+01, 7.17174545e+01,\n",
       "       7.27275455e+01, 7.37376364e+01, 7.47477273e+01, 7.57578182e+01,\n",
       "       7.67679091e+01, 7.77780000e+01, 7.87880909e+01, 7.97981818e+01,\n",
       "       8.08082727e+01, 8.18183636e+01, 8.28284545e+01, 8.38385455e+01,\n",
       "       8.48486364e+01, 8.58587273e+01, 8.68688182e+01, 8.78789091e+01,\n",
       "       8.88890000e+01, 8.98990909e+01, 9.09091818e+01, 9.19192727e+01,\n",
       "       9.29293636e+01, 9.39394545e+01, 9.49495455e+01, 9.59596364e+01,\n",
       "       9.69697273e+01, 9.79798182e+01, 9.89899091e+01, 1.00000000e+02])"
      ]
     },
     "execution_count": 15,
     "metadata": {},
     "output_type": "execute_result"
    }
   ],
   "source": [
    "np.linspace(0.001, 100, num = 100)"
   ]
  },
  {
   "cell_type": "code",
   "execution_count": null,
   "id": "52098958",
   "metadata": {},
   "outputs": [],
   "source": [
    "## LASSO regression\n"
   ]
  }
 ],
 "metadata": {
  "kernelspec": {
   "display_name": "conda_python3",
   "language": "python",
   "name": "conda_python3"
  },
  "language_info": {
   "codemirror_mode": {
    "name": "ipython",
    "version": 3
   },
   "file_extension": ".py",
   "mimetype": "text/x-python",
   "name": "python",
   "nbconvert_exporter": "python",
   "pygments_lexer": "ipython3",
   "version": "3.6.13"
  }
 },
 "nbformat": 4,
 "nbformat_minor": 5
}
